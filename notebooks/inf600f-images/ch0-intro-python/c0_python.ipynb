{
 "cells": [
  {
   "cell_type": "markdown",
   "id": "exposed-debate",
   "metadata": {
    "slideshow": {
     "slide_type": "slide"
    }
   },
   "source": [
    "# Introduction à Python\n",
    "\n",
    "**INF600F - Traitement d'images (UQÀM)**\n",
    "\n",
    "* Tutoriel d'introduction à Python utilisé pour le cours de traitement d'images enseigné à l'UQAM. \n",
    "* **Professeur**: Joël Lefebvre (https://linum-lab.ca)\n",
    "\n",
    "[![Open in Colab](https://colab.research.google.com/assets/colab-badge.svg)](https://colab.research.google.com/github/joe-from-mtl/teaching/blob/main/notebooks/inf600f-images/ch0-intro-python/c0_python.ipynb)"
   ]
  },
  {
   "cell_type": "markdown",
   "id": "artificial-citizenship",
   "metadata": {
    "slideshow": {
     "slide_type": "slide"
    }
   },
   "source": [
    "## Introduction"
   ]
  },
  {
   "cell_type": "code",
   "execution_count": 15,
   "id": "hydraulic-sheet",
   "metadata": {},
   "outputs": [
    {
     "data": {
      "text/plain": [
       "float"
      ]
     },
     "execution_count": 15,
     "metadata": {},
     "output_type": "execute_result"
    }
   ],
   "source": [
    "a = 1.0\n",
    "def fonction(a):\n",
    "    a += 1\n",
    "    return a"
   ]
  },
  {
   "cell_type": "markdown",
   "id": "radio-senate",
   "metadata": {
    "slideshow": {
     "slide_type": "slide"
    }
   },
   "source": [
    "### Environnements Python"
   ]
  },
  {
   "cell_type": "markdown",
   "id": "industrial-reputation",
   "metadata": {},
   "source": [
    "Ceci est un test"
   ]
  },
  {
   "cell_type": "code",
   "execution_count": 16,
   "id": "close-facing",
   "metadata": {},
   "outputs": [
    {
     "name": "stdout",
     "output_type": "stream",
     "text": [
      "1\n"
     ]
    }
   ],
   "source": [
    "a = 1\n",
    "print(a)"
   ]
  },
  {
   "cell_type": "markdown",
   "id": "fixed-electron",
   "metadata": {
    "slideshow": {
     "slide_type": "slide"
    }
   },
   "source": [
    "### Interpréteur"
   ]
  },
  {
   "cell_type": "code",
   "execution_count": null,
   "id": "changing-jacket",
   "metadata": {},
   "outputs": [],
   "source": []
  },
  {
   "cell_type": "markdown",
   "id": "pregnant-doubt",
   "metadata": {
    "slideshow": {
     "slide_type": "slide"
    }
   },
   "source": [
    "### Distribution Anaconda"
   ]
  },
  {
   "cell_type": "code",
   "execution_count": null,
   "id": "bibliographic-fundamental",
   "metadata": {},
   "outputs": [],
   "source": []
  },
  {
   "cell_type": "markdown",
   "id": "greater-adobe",
   "metadata": {
    "slideshow": {
     "slide_type": "slide"
    }
   },
   "source": [
    "### Façon d'exécuter du code Python\n",
    "- Interpréteur\n",
    "- Console\n",
    "- IDE\n",
    "- Jupyter"
   ]
  },
  {
   "cell_type": "markdown",
   "id": "shaped-incidence",
   "metadata": {
    "slideshow": {
     "slide_type": "slide"
    }
   },
   "source": [
    "## Base du langage Python"
   ]
  },
  {
   "cell_type": "markdown",
   "id": "lightweight-crawford",
   "metadata": {
    "slideshow": {
     "slide_type": "slide"
    }
   },
   "source": [
    "### Indentation"
   ]
  },
  {
   "cell_type": "code",
   "execution_count": 17,
   "id": "official-omaha",
   "metadata": {},
   "outputs": [
    {
     "name": "stdout",
     "output_type": "stream",
     "text": [
      "1\n"
     ]
    },
    {
     "data": {
      "text/plain": [
       "2"
      ]
     },
     "execution_count": 17,
     "metadata": {},
     "output_type": "execute_result"
    }
   ],
   "source": [
    "def fonction(a):\n",
    "    print(a)\n",
    "    return a+1\n",
    "    \n",
    "fonction(1)"
   ]
  },
  {
   "cell_type": "markdown",
   "id": "material-indonesian",
   "metadata": {
    "slideshow": {
     "slide_type": "slide"
    }
   },
   "source": [
    "### Commentaires"
   ]
  },
  {
   "cell_type": "code",
   "execution_count": null,
   "id": "modern-cosmetic",
   "metadata": {},
   "outputs": [],
   "source": [
    "a = 1 # asdlfkjasdlfkj\n",
    "\n",
    "\"\"\"\n",
    "asdflaksdj\n",
    "asdlkfjasdlf\n",
    "asdlfkjasdlf\n",
    "\"\"\""
   ]
  },
  {
   "cell_type": "markdown",
   "id": "informed-bolivia",
   "metadata": {
    "slideshow": {
     "slide_type": "slide"
    }
   },
   "source": [
    "### Variables"
   ]
  },
  {
   "cell_type": "code",
   "execution_count": 20,
   "id": "classical-senator",
   "metadata": {},
   "outputs": [
    {
     "name": "stdout",
     "output_type": "stream",
     "text": [
      "<class 'int'>\n",
      "<class 'float'>\n",
      "<class 'str'>\n"
     ]
    }
   ],
   "source": [
    "a = 1\n",
    "print(type(a))\n",
    "a = 10.0\n",
    "print(type(a))\n",
    "a = \"salut\"\n",
    "print(type(a))"
   ]
  },
  {
   "cell_type": "markdown",
   "id": "canadian-neutral",
   "metadata": {
    "slideshow": {
     "slide_type": "slide"
    }
   },
   "source": [
    "### Opérateurs"
   ]
  },
  {
   "cell_type": "code",
   "execution_count": 31,
   "id": "incident-circular",
   "metadata": {},
   "outputs": [
    {
     "name": "stdout",
     "output_type": "stream",
     "text": [
      "2\n"
     ]
    }
   ],
   "source": [
    "a = 1\n",
    "b = 2\n",
    "\n",
    "a += 1\n",
    "print(a)"
   ]
  },
  {
   "cell_type": "markdown",
   "id": "general-simulation",
   "metadata": {
    "slideshow": {
     "slide_type": "slide"
    }
   },
   "source": [
    "### Boucles"
   ]
  },
  {
   "cell_type": "code",
   "execution_count": 36,
   "id": "eastern-communications",
   "metadata": {},
   "outputs": [
    {
     "name": "stdout",
     "output_type": "stream",
     "text": [
      "0\n",
      "1\n",
      "2\n",
      "3\n",
      "4\n",
      "python\n",
      "scipy\n",
      "0\n",
      "1\n",
      "2\n",
      "3\n"
     ]
    }
   ],
   "source": [
    "for i in range(5):\n",
    "    print(i)\n",
    "    \n",
    "a = [\"python\", \"scipy\"]\n",
    "for i in a:\n",
    "    print(i)\n",
    "    \n",
    "i = 0\n",
    "while i < 4:\n",
    "    print(i)\n",
    "    i += 1"
   ]
  },
  {
   "cell_type": "markdown",
   "id": "human-allowance",
   "metadata": {
    "slideshow": {
     "slide_type": "slide"
    }
   },
   "source": [
    "### Structures de contrôle"
   ]
  },
  {
   "cell_type": "code",
   "execution_count": 37,
   "id": "thirty-measurement",
   "metadata": {},
   "outputs": [
    {
     "name": "stdout",
     "output_type": "stream",
     "text": [
      "a est plus petit que 10\n"
     ]
    }
   ],
   "source": [
    "a = 4\n",
    "if a < 10:\n",
    "    print(\"a est plus petit que 10\")\n",
    "elif a < 20:\n",
    "    print(\"a est entre 10 et 20\")\n",
    "else:\n",
    "    print(\"a est plus grand 20\")"
   ]
  },
  {
   "cell_type": "markdown",
   "id": "respected-presence",
   "metadata": {
    "slideshow": {
     "slide_type": "slide"
    }
   },
   "source": [
    "## Structures de données"
   ]
  },
  {
   "cell_type": "markdown",
   "id": "mysterious-saudi",
   "metadata": {
    "slideshow": {
     "slide_type": "slide"
    }
   },
   "source": [
    "### Listes"
   ]
  },
  {
   "cell_type": "code",
   "execution_count": 64,
   "id": "capital-wonder",
   "metadata": {},
   "outputs": [
    {
     "name": "stdout",
     "output_type": "stream",
     "text": [
      "[0, 1, 2, 3, 4, 5, 6, 7, 8, 9]\n",
      "[0, 1, 4, 9, 16, 25, 36, 49, 64, 81]\n",
      "[0, 1, 4, 9, 16, 25, 36, 49, 64, 81]\n"
     ]
    }
   ],
   "source": [
    "a = list(range(10))\n",
    "b = [x*x for x in a]\n",
    "print(a)\n",
    "print(b)\n",
    "\n",
    "c = []\n",
    "for x in a:\n",
    "    c.append(x**2)\n",
    "print(c)\n"
   ]
  },
  {
   "cell_type": "markdown",
   "id": "focused-fishing",
   "metadata": {
    "slideshow": {
     "slide_type": "slide"
    }
   },
   "source": [
    "### Tuples"
   ]
  },
  {
   "cell_type": "code",
   "execution_count": 68,
   "id": "premier-award",
   "metadata": {},
   "outputs": [
    {
     "name": "stdout",
     "output_type": "stream",
     "text": [
      "[3, 2, 3]\n"
     ]
    },
    {
     "ename": "TypeError",
     "evalue": "'tuple' object does not support item assignment",
     "output_type": "error",
     "traceback": [
      "\u001b[0;31m----------------------------------------------------------------------\u001b[0m",
      "\u001b[0;31mTypeError\u001b[0m                            Traceback (most recent call last)",
      "\u001b[0;32m<ipython-input-68-8f67caff2722>\u001b[0m in \u001b[0;36m<module>\u001b[0;34m\u001b[0m\n\u001b[1;32m      3\u001b[0m \u001b[0ma\u001b[0m\u001b[0;34m[\u001b[0m\u001b[0;36m0\u001b[0m\u001b[0;34m]\u001b[0m \u001b[0;34m=\u001b[0m \u001b[0;36m3\u001b[0m\u001b[0;34m\u001b[0m\u001b[0;34m\u001b[0m\u001b[0m\n\u001b[1;32m      4\u001b[0m \u001b[0mprint\u001b[0m\u001b[0;34m(\u001b[0m\u001b[0ma\u001b[0m\u001b[0;34m)\u001b[0m\u001b[0;34m\u001b[0m\u001b[0;34m\u001b[0m\u001b[0m\n\u001b[0;32m----> 5\u001b[0;31m \u001b[0mb\u001b[0m\u001b[0;34m[\u001b[0m\u001b[0;36m0\u001b[0m\u001b[0;34m]\u001b[0m \u001b[0;34m=\u001b[0m \u001b[0;36m3\u001b[0m\u001b[0;34m\u001b[0m\u001b[0;34m\u001b[0m\u001b[0m\n\u001b[0m",
      "\u001b[0;31mTypeError\u001b[0m: 'tuple' object does not support item assignment"
     ]
    }
   ],
   "source": [
    "a = [1,2,3] # Liste\n",
    "b = (1,2,3) # Tuple\n",
    "a[0] = 3\n",
    "print(a)\n",
    "b[0] = 3"
   ]
  },
  {
   "cell_type": "markdown",
   "id": "interpreted-disorder",
   "metadata": {
    "slideshow": {
     "slide_type": "slide"
    }
   },
   "source": [
    "### Sets"
   ]
  },
  {
   "cell_type": "code",
   "execution_count": 69,
   "id": "amino-incentive",
   "metadata": {},
   "outputs": [
    {
     "name": "stdout",
     "output_type": "stream",
     "text": [
      "[1, 2, 3, 4, 4]\n",
      "{1, 2, 3, 4}\n"
     ]
    }
   ],
   "source": [
    "a = [1,2,3,4,4] # liste\n",
    "b = set([1,2,3,4,4]) # set (ensemble)\n",
    "print(a)\n",
    "print(b)"
   ]
  },
  {
   "cell_type": "markdown",
   "id": "decent-brush",
   "metadata": {
    "slideshow": {
     "slide_type": "slide"
    }
   },
   "source": [
    "### Dicts"
   ]
  },
  {
   "cell_type": "code",
   "execution_count": 74,
   "id": "following-mitchell",
   "metadata": {},
   "outputs": [
    {
     "name": "stdout",
     "output_type": "stream",
     "text": [
      "{'lang': 'Python', 'version': 3, 'cours': 'inf600f'}\n",
      "<class 'dict'>\n",
      "inf600f\n",
      "{'lang': 'Python', 'version': 3, 'cours': 'inf600f', 'session': 'hiver 2021'}\n"
     ]
    }
   ],
   "source": [
    "a = {\"lang\": \"Python\", \"version\": 3, \"cours\": \"inf600f\"}\n",
    "print(a)\n",
    "print(type(a))\n",
    "print(a[\"cours\"])\n",
    "a[\"session\"] = \"hiver 2021\"\n",
    "print(a)"
   ]
  },
  {
   "cell_type": "markdown",
   "id": "recognized-sudan",
   "metadata": {
    "slideshow": {
     "slide_type": "slide"
    }
   },
   "source": [
    "## Gestion des fichiers"
   ]
  },
  {
   "cell_type": "code",
   "execution_count": 76,
   "id": "proof-dispute",
   "metadata": {},
   "outputs": [
    {
     "name": "stdout",
     "output_type": "stream",
     "text": [
      "Bonjour tout le monde !\n",
      "\n",
      "Ceci est la deuxième ligne\n",
      "\n"
     ]
    }
   ],
   "source": [
    "f = open(\"fichier.txt\", \"r\")\n",
    "for i in f.readlines():\n",
    "    print(i)\n",
    "f.close()\n",
    "\n",
    "# Écrire des données dans un fichier\n",
    "f = open(\"fichier2.txt\", \"w\")\n",
    "f.write(\"Salut\")\n",
    "f.close()"
   ]
  },
  {
   "cell_type": "markdown",
   "id": "polish-killing",
   "metadata": {
    "slideshow": {
     "slide_type": "slide"
    }
   },
   "source": [
    "## Fonctions originales"
   ]
  },
  {
   "cell_type": "code",
   "execution_count": 80,
   "id": "nearby-router",
   "metadata": {},
   "outputs": [
    {
     "name": "stdout",
     "output_type": "stream",
     "text": [
      "(28.274333882308138, 18.84955592153876)\n"
     ]
    }
   ],
   "source": [
    "def maFonction(a, b, option1=2):\n",
    "    c = a + b\n",
    "    c *= option1\n",
    "    return c\n",
    "\n",
    "maFonction(1,2)\n",
    "\n",
    "import math\n",
    "def calculerPropCercle(r):\n",
    "    aire = math.pi * r ** 2\n",
    "    circ = 2 * math.pi * r\n",
    "    return aire, circ\n",
    "\n",
    "print(calculerPropCercle(3))"
   ]
  },
  {
   "cell_type": "markdown",
   "id": "eastern-article",
   "metadata": {
    "slideshow": {
     "slide_type": "slide"
    }
   },
   "source": [
    "# Calcul avec Python"
   ]
  },
  {
   "cell_type": "markdown",
   "id": "placed-biology",
   "metadata": {
    "slideshow": {
     "slide_type": "slide"
    }
   },
   "source": [
    "## Modules Python"
   ]
  },
  {
   "cell_type": "code",
   "execution_count": 86,
   "id": "fundamental-words",
   "metadata": {},
   "outputs": [
    {
     "name": "stdout",
     "output_type": "stream",
     "text": [
      "[[0 0 0]\n",
      " [0 0 0]\n",
      " [0 0 0]]\n",
      "(3, 3)\n",
      "uint8\n"
     ]
    }
   ],
   "source": [
    "import numpy as np # Liste, matrice, algèbre linéaire\n",
    "import scipy # Algorithme et méthode prog. scientifique\n",
    "import matplotlib.pyplot as plt # Visualisation (afficher les images)\n",
    "import skimage # Traitement d'images (scikit-image)\n",
    "\n",
    "A = np.zeros((3,3), dtype=np.uint8)\n",
    "print(A)\n",
    "print(A.shape)\n",
    "print(A.dtype)"
   ]
  },
  {
   "cell_type": "markdown",
   "id": "nominated-begin",
   "metadata": {
    "slideshow": {
     "slide_type": "slide"
    }
   },
   "source": [
    "## Créer un module"
   ]
  },
  {
   "cell_type": "code",
   "execution_count": 89,
   "id": "silver-musician",
   "metadata": {},
   "outputs": [
    {
     "name": "stdout",
     "output_type": "stream",
     "text": [
      "La valeur de pi est 3.1416\n"
     ]
    }
   ],
   "source": [
    "# Dans un fichier séparé\n",
    "# Nom ficher : monModule.py\n",
    "\n",
    "version = \"1.0\"\n",
    "\n",
    "def printpi():\n",
    "    print(\"La valeur de pi est 3.1416\")\n",
    "    \n",
    "    \n",
    "import monModule\n",
    "monModule.printpi()"
   ]
  },
  {
   "cell_type": "markdown",
   "id": "organic-hygiene",
   "metadata": {
    "slideshow": {
     "slide_type": "slide"
    }
   },
   "source": [
    "## Charger un module"
   ]
  },
  {
   "cell_type": "code",
   "execution_count": 98,
   "id": "loaded-letters",
   "metadata": {},
   "outputs": [
    {
     "name": "stdout",
     "output_type": "stream",
     "text": [
      "La valeur de pi est 3.1416\n",
      "La valeur de pi est 3.1416\n"
     ]
    },
    {
     "data": {
      "text/plain": [
       "-0.9899924966004454"
      ]
     },
     "execution_count": 98,
     "metadata": {},
     "output_type": "execute_result"
    }
   ],
   "source": [
    "import monModule as M\n",
    "M.printpi()\n",
    "\n",
    "from monModule import printpi as p\n",
    "p()\n",
    "\n",
    "from numpy import zeros, ones\n",
    "zeros((3,3))\n",
    "ones((3,3))\n",
    "\n",
    "from math import *\n",
    "cos(3)\n"
   ]
  },
  {
   "cell_type": "markdown",
   "id": "corresponding-ethnic",
   "metadata": {
    "slideshow": {
     "slide_type": "slide"
    }
   },
   "source": [
    "## Numpy"
   ]
  },
  {
   "cell_type": "code",
   "execution_count": 114,
   "id": "valued-hygiene",
   "metadata": {},
   "outputs": [
    {
     "name": "stdout",
     "output_type": "stream",
     "text": [
      "[[0. 0. 0.]\n",
      " [0. 0. 0.]\n",
      " [0. 0. 0.]]\n",
      "[[1. 1. 1.]\n",
      " [1. 1. 1.]\n",
      " [1. 1. 1.]]\n",
      "[[1 2 3]\n",
      " [4 5 6]\n",
      " [7 8 9]]\n"
     ]
    },
    {
     "data": {
      "text/plain": [
       "array([[4, 5, 6],\n",
       "       [7, 8, 9]])"
      ]
     },
     "execution_count": 114,
     "metadata": {},
     "output_type": "execute_result"
    }
   ],
   "source": [
    "A = np.zeros((3,3))\n",
    "B = np.ones((3,3))\n",
    "\n",
    "print(A)\n",
    "print(B)\n",
    "\n",
    "C = A + B * 2\n",
    "\n",
    "D = np.array([[1,2,3],[4,5,6],[7,8,9]])\n",
    "print(D)\n",
    "D[:,0]\n",
    "D[1::,:]"
   ]
  },
  {
   "cell_type": "markdown",
   "id": "organic-education",
   "metadata": {
    "slideshow": {
     "slide_type": "slide"
    }
   },
   "source": [
    "## Scipy"
   ]
  },
  {
   "cell_type": "code",
   "execution_count": 119,
   "id": "broken-virus",
   "metadata": {},
   "outputs": [],
   "source": [
    "from scipy import ndimage\n",
    "A = np.zeros((512,512), dtype=np.uint8)\n",
    "ndimage.filters.gaussian_filter(A, 2)\n",
    "\n",
    "import imageio # I/O image\n",
    "imageio.imread(\"nom_image.jpg\")\n",
    "imageio.imwrite(\"nom_image2.png\")"
   ]
  },
  {
   "cell_type": "markdown",
   "id": "alert-conditions",
   "metadata": {
    "slideshow": {
     "slide_type": "slide"
    }
   },
   "source": [
    "## Matplotlib"
   ]
  },
  {
   "cell_type": "code",
   "execution_count": 123,
   "id": "steady-alexander",
   "metadata": {},
   "outputs": [
    {
     "data": {
      "image/png": "[encoded data removed]",
      "text/plain": [
       "<Figure size 432x288 with 1 Axes>"
      ]
     },
     "metadata": {
      "needs_background": "light"
     },
     "output_type": "display_data"
    }
   ],
   "source": [
    "import matplotlib.pyplot as plt\n",
    "\n",
    "plt.plot([0,1,2,3], [0,1,4,9], label=\"Courbe\")\n",
    "plt.xlabel(\"X\")\n",
    "plt.ylabel(\"Y\")\n",
    "plt.legend()\n",
    "plt.title(\"Quadratique\")\n",
    "plt.show()"
   ]
  },
  {
   "cell_type": "markdown",
   "id": "valid-grenada",
   "metadata": {
    "slideshow": {
     "slide_type": "slide"
    }
   },
   "source": [
    "## Scikit"
   ]
  },
  {
   "cell_type": "code",
   "execution_count": 133,
   "id": "transparent-absence",
   "metadata": {
    "scrolled": false
   },
   "outputs": [
    {
     "name": "stdout",
     "output_type": "stream",
     "text": [
      "(512, 512, 3)\n",
      "uint8\n",
      "<class 'numpy.ndarray'>\n"
     ]
    },
    {
     "data": {
      "image/png": "[encoded data removed]",
      "text/plain": [
       "<Figure size 432x288 with 1 Axes>"
      ]
     },
     "metadata": {
      "needs_background": "light"
     },
     "output_type": "display_data"
    }
   ],
   "source": [
    "from skimage import filters\n",
    "from skimage import data\n",
    "\n",
    "img = data.astronaut()\n",
    "print(img.shape)\n",
    "print(img.dtype)\n",
    "print(type(img))\n",
    "\n",
    "plt.imshow(img)\n",
    "plt.axis(\"off\")\n",
    "plt.show()"
   ]
  },
  {
   "cell_type": "markdown",
   "id": "casual-chosen",
   "metadata": {
    "slideshow": {
     "slide_type": "slide"
    }
   },
   "source": [
    "## OpenCV (version Python)"
   ]
  },
  {
   "cell_type": "code",
   "execution_count": 136,
   "id": "native-coach",
   "metadata": {
    "scrolled": false
   },
   "outputs": [],
   "source": [
    "import cv2\n",
    "help(cv2.imread)"
   ]
  },
  {
   "cell_type": "markdown",
   "id": "vocal-payment",
   "metadata": {
    "slideshow": {
     "slide_type": "slide"
    }
   },
   "source": [
    "# Références"
   ]
  },
  {
   "cell_type": "markdown",
   "id": "married-praise",
   "metadata": {},
   "source": [
    "- (Chityala, 2020) Chapitre 1 : Introduction to Python\n",
    "- (Chityala, 2020) Chapitre 2 : Computing using Python Modules\n",
    "- (Swinnen, 2012) Apprendre à programmer avec Python 3 ([URL](https://inforef.be/swi/python.htm), gratuit !)\n",
    "- (Lacey, 2019) Python by example : learning to program in 150 challenges. Cambridge University Press. [Biblio](https://uqam-bib.on.worldcat.org/oclc/1103218955).\n",
    "- Tutoriel Numpy : https://numpy.org/doc/stable/user/quickstart.html\n",
    "- Documentation Jupyter : https://jupyter.org/documentation\n",
    "- [Tutoriel Scipy](https://docs.scipy.org/doc/scipy/reference/tutorial/)\n",
    "- [Tutoriel Matplotlib](https://matplotlib.org/tutorials/introductory/pyplot.html)\n",
    "- https://scikit-image.org/"
   ]
  }
 ],
 "metadata": {
  "celltoolbar": "Slideshow",
  "kernelspec": {
   "display_name": "Python 3",
   "language": "python",
   "name": "python3"
  },
  "language_info": {
   "codemirror_mode": {
    "name": "ipython",
    "version": 3
   },
   "file_extension": ".py",
   "mimetype": "text/x-python",
   "name": "python",
   "nbconvert_exporter": "python",
   "pygments_lexer": "ipython3",
   "version": "3.10.0"
  },
  "toc": {
   "base_numbering": 1,
   "nav_menu": {},
   "number_sections": true,
   "sideBar": true,
   "skip_h1_title": false,
   "title_cell": "Table of Contents",
   "title_sidebar": "Contents",
   "toc_cell": false,
   "toc_position": {
    "height": "calc(100% - 180px)",
    "left": "10px",
    "top": "150px",
    "width": "274.167px"
   },
   "toc_section_display": true,
   "toc_window_display": false
  }
 },
 "nbformat": 4,
 "nbformat_minor": 5
}
