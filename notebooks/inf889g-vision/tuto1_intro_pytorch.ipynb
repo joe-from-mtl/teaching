{
 "cells": [
  {
   "cell_type": "markdown",
   "metadata": {},
   "source": [
    "# Tutoriel 1 : Introduction à Pytorch & Réseau de neurones\n",
    "***INF889G - Vision par ordinateur (UQÀM)***\n",
    "\n",
    "*Adapté du [tutoriel 1](https://github.com/pjreddie/uwimg/blob/main/tutorial1%20-%20pytorch-introduction.ipynb) du cours CSE455 à l'Université de Washington (J. Redmon), qui a été adapté du tutoriel PyTorch : https://pytorch.org/tutorials/beginner/blitz/tensor_tutorial.html*"
   ]
  },
  {
   "cell_type": "markdown",
   "metadata": {},
   "source": [
    "[![Open in Colab](https://colab.research.google.com/assets/colab-badge.svg)](https://colab.research.google.com/github/joe-from-mtl/teaching/blob/main/notebooks/inf889g-vision/tuto1_intro_pytorch.ipynb)"
   ]
  },
  {
   "cell_type": "code",
   "execution_count": null,
   "metadata": {
    "id": "rcdw-Byt4dEs"
   },
   "outputs": [],
   "source": [
    "%matplotlib inline"
   ]
  },
  {
   "cell_type": "markdown",
   "metadata": {
    "id": "BjzxV3Xw4dEx"
   },
   "source": [
    "\n",
    "# Tenseurs\n",
    "\n",
    "Les tenseurs sont une structure de données spécialisée très similaire aux tableaux et matrices. Dans PyTorch, nous utilisons des tenseurs pour coder les entrées et sorties d'un modèle, ainsi que ses paramètres.\n",
    "\n",
    "Les tenseurs sont similaires aux `ndarrays` de NumPy, sauf que les tenseurs peuvent s'exécuter sur GPU ou autre matériel spécialisé pour accélérer le calcul. Si vous connaissez `ndarrays`, vous serez à l'aise avec l'API `Tensor`. Si ce n'est pas le cas, suivez cette présentation rapide de l'API."
   ]
  },
  {
   "cell_type": "code",
   "execution_count": 1,
   "metadata": {
    "id": "CQjiBuSU4dEy"
   },
   "outputs": [],
   "source": [
    "import torch\n",
    "import numpy as np"
   ]
  },
  {
   "cell_type": "markdown",
   "metadata": {
    "id": "Ry_GqU_K4dEy"
   },
   "source": [
    "## Initialisation d'un tenseur\n",
    "\n",
    "Les tenseurs peuvent être initialisés de plusieurs façons. Considérez ces quelques exemples :\n",
    "\n",
    "**Directement à partir des données**\n",
    "\n",
    "Les tenseurs peuvent être créés directement à partir des données. Le type de données est déduit automatiquement."
   ]
  },
  {
   "cell_type": "code",
   "execution_count": 2,
   "metadata": {
    "id": "UEzvdsMN4dEy"
   },
   "outputs": [
    {
     "name": "stdout",
     "output_type": "stream",
     "text": [
      "tensor([[1, 2],\n",
      "        [3, 4]])\n"
     ]
    }
   ],
   "source": [
    "data = [[1, 2],[3, 4]]\n",
    "x_data = torch.tensor(data)\n",
    "print(x_data)"
   ]
  },
  {
   "cell_type": "markdown",
   "metadata": {
    "id": "xTzI1fR24dEy"
   },
   "source": [
    "**À partir d'un tableau NumPy**\n",
    "\n",
    "Les tenseurs peuvent être créés à partir de tableaux NumPy (et vice versa)."
   ]
  },
  {
   "cell_type": "code",
   "execution_count": 3,
   "metadata": {
    "id": "nIL9FFrL4dEz"
   },
   "outputs": [],
   "source": [
    "np_array = np.array(data)\n",
    "x_np = torch.from_numpy(np_array)"
   ]
  },
  {
   "cell_type": "markdown",
   "metadata": {
    "id": "uBbOkWiW4dEz"
   },
   "source": [
    "**À partir d'un autre tenseur**\n",
    "\n",
    "Le nouveau tenseur conserve les propriétés (forme, type de données) du tenseur fourni en argument, à moins qu'il ne soit explicitement remplacé."
   ]
  },
  {
   "cell_type": "code",
   "execution_count": 5,
   "metadata": {
    "id": "99s7eHDX4dEz"
   },
   "outputs": [
    {
     "name": "stdout",
     "output_type": "stream",
     "text": [
      "Tenseurs de 1: \n",
      " tensor([[1, 1],\n",
      "        [1, 1]]) \n",
      "\n",
      "Tenseur aléatoire : \n",
      " tensor([[0.2112, 0.8349],\n",
      "        [0.0249, 0.9114]]) \n",
      "\n"
     ]
    }
   ],
   "source": [
    "x_ones = torch.ones_like(x_data) # converse les propriétés de x_data\n",
    "print(f\"Tenseurs de 1: \\n {x_ones} \\n\")\n",
    "\n",
    "x_rand = torch.rand_like(x_data, dtype=torch.float) # remplace le type données de x_data\n",
    "print(f\"Tenseur aléatoire : \\n {x_rand} \\n\")"
   ]
  },
  {
   "cell_type": "markdown",
   "metadata": {
    "id": "pW1c90d_4dEz"
   },
   "source": [
    "**Avec des valeurs aléatoires ou constantes**\n",
    "\n",
    "``shape`` est un tuple de dimensions tensorielles. Dans les fonctions ci-dessous, il détermine la dimensionnalité du tenseur de sortie."
   ]
  },
  {
   "cell_type": "code",
   "execution_count": 7,
   "metadata": {
    "id": "tHxuybBX4dE0"
   },
   "outputs": [
    {
     "name": "stdout",
     "output_type": "stream",
     "text": [
      "Tenseur aléatoire : \n",
      " tensor([[0.6470, 0.2919, 0.3063],\n",
      "        [0.5787, 0.0333, 0.5988]]) \n",
      "\n",
      "Tenseur de 1 : \n",
      " tensor([[1., 1., 1.],\n",
      "        [1., 1., 1.]]) \n",
      "\n",
      "Tenseur de 0 : \n",
      " tensor([[0., 0., 0.],\n",
      "        [0., 0., 0.]])\n"
     ]
    }
   ],
   "source": [
    "shape = (2,3,)\n",
    "rand_tensor = torch.rand(shape)\n",
    "ones_tensor = torch.ones(shape)\n",
    "zeros_tensor = torch.zeros(shape)\n",
    "\n",
    "print(f\"Tenseur aléatoire : \\n {rand_tensor} \\n\")\n",
    "print(f\"Tenseur de 1 : \\n {ones_tensor} \\n\")\n",
    "print(f\"Tenseur de 0 : \\n {zeros_tensor}\")"
   ]
  },
  {
   "cell_type": "markdown",
   "metadata": {
    "id": "i3VXRSLO4dE0"
   },
   "source": [
    "##  Propriétés d'un tenseur\n",
    "\n",
    "Les propriétés (*attributes*) d'un tenseur décrivent leur forme, leur type de données et l'appareil (*device*) sur lequel ils sont stockés.\n"
   ]
  },
  {
   "cell_type": "code",
   "execution_count": 8,
   "metadata": {
    "id": "1iLki8Ib4dE0"
   },
   "outputs": [
    {
     "name": "stdout",
     "output_type": "stream",
     "text": [
      "Forme du tenseur : torch.Size([3, 4])\n",
      "Type de données du tenseur : torch.float32\n",
      "Appareil où le tenseur est stocké : cpu\n"
     ]
    }
   ],
   "source": [
    "tensor = torch.rand(3,4)\n",
    "\n",
    "print(f\"Forme du tenseur : {tensor.shape}\")\n",
    "print(f\"Type de données du tenseur : {tensor.dtype}\")\n",
    "print(f\"Appareil où le tenseur est stocké : {tensor.device}\")"
   ]
  },
  {
   "cell_type": "markdown",
   "metadata": {
    "id": "6oULsJFy4dE0"
   },
   "source": [
    "## Opérations tensorielles\n",
    "\n",
    "Plus de 100 opérations tensorielles, incluant la transposition, l'indexation, le tranchage, les opérations mathématiques, l'algèbre linéaire, l'échantillonnage aléatoire, et plus sont décrites en détail dans la [documentation de pytorch](https://pytorch.org/docs/stable/torch.html).\n",
    "\n",
    "Chacun peut être exécuté sur GPU (à une vitesse généralement plus élevée que sur un CPU). Si vous utilisez Colab, allouez un GPU en accédant à `Edit > Notebook Settings`."
   ]
  },
  {
   "cell_type": "code",
   "execution_count": 11,
   "metadata": {
    "id": "DaniUxNY4dE1"
   },
   "outputs": [],
   "source": [
    "# Déplaçons le tenseur vers le GPU si disponible\n",
    "if torch.cuda.is_available():\n",
    "    tensor = tensor.to('cuda')"
   ]
  },
  {
   "cell_type": "code",
   "execution_count": 10,
   "metadata": {
    "id": "453HnI8zGSwD"
   },
   "outputs": [
    {
     "name": "stdout",
     "output_type": "stream",
     "text": [
      "tensor([[0.3080, 0.6362, 0.9307, 0.5878],\n",
      "        [0.7606, 0.8277, 0.2703, 0.2636],\n",
      "        [0.9931, 0.9803, 0.5186, 0.1719]])\n"
     ]
    }
   ],
   "source": [
    "print(tensor)"
   ]
  },
  {
   "cell_type": "markdown",
   "metadata": {
    "id": "KwJ3pVRh4dE1"
   },
   "source": [
    "Essayez quelques-unes des opérations de la liste. Si vous connaissez l'API NumPy, vous trouverez l'API `Tensor` facile à utiliser."
   ]
  },
  {
   "cell_type": "markdown",
   "metadata": {
    "id": "yHwEXhyf4dE1"
   },
   "source": [
    "**Indexation et découpage (*slicing*) de type NumPy**"
   ]
  },
  {
   "cell_type": "code",
   "execution_count": 12,
   "metadata": {
    "id": "LdB3fJ6e4dE1"
   },
   "outputs": [
    {
     "name": "stdout",
     "output_type": "stream",
     "text": [
      "tensor([[1., 0., 1., 1.],\n",
      "        [1., 0., 1., 1.],\n",
      "        [1., 0., 1., 1.],\n",
      "        [1., 0., 1., 1.]])\n"
     ]
    }
   ],
   "source": [
    "tensor = torch.ones(4, 4)\n",
    "tensor[:,1] = 0\n",
    "print(tensor)"
   ]
  },
  {
   "cell_type": "markdown",
   "metadata": {
    "id": "TI1wweQk4dE1"
   },
   "source": [
    "**Joindre des tenseurs**\n",
    "\n",
    "Vous pouvez utiliser `torch.cat` pour concaténer une séquence de tenseurs le long d'une dimension donnée. Consultez aussi [`torch.stack`](https://pytorch.org/docs/stable/generated/torch.stack.html), une autre opération de combinaison de tenseurs qui est subtilement différence de `torch.cat`."
   ]
  },
  {
   "cell_type": "code",
   "execution_count": 13,
   "metadata": {
    "id": "VhYVVizS4dE2"
   },
   "outputs": [
    {
     "name": "stdout",
     "output_type": "stream",
     "text": [
      "tensor([[1., 0., 1., 1., 1., 0., 1., 1., 1., 0., 1., 1.],\n",
      "        [1., 0., 1., 1., 1., 0., 1., 1., 1., 0., 1., 1.],\n",
      "        [1., 0., 1., 1., 1., 0., 1., 1., 1., 0., 1., 1.],\n",
      "        [1., 0., 1., 1., 1., 0., 1., 1., 1., 0., 1., 1.]])\n"
     ]
    }
   ],
   "source": [
    "t1 = torch.cat([tensor, tensor, tensor], dim=1)\n",
    "print(t1)"
   ]
  },
  {
   "cell_type": "markdown",
   "metadata": {
    "id": "6rGcWPN64dE2"
   },
   "source": [
    "**Multiplier des tenseurs**"
   ]
  },
  {
   "cell_type": "code",
   "execution_count": 14,
   "metadata": {
    "id": "5TvoCGDz4dE2"
   },
   "outputs": [
    {
     "name": "stdout",
     "output_type": "stream",
     "text": [
      "tensor.mul(tensor) \n",
      " tensor([[1., 0., 1., 1.],\n",
      "        [1., 0., 1., 1.],\n",
      "        [1., 0., 1., 1.],\n",
      "        [1., 0., 1., 1.]]) \n",
      "\n",
      "tensor * tensor \n",
      " tensor([[1., 0., 1., 1.],\n",
      "        [1., 0., 1., 1.],\n",
      "        [1., 0., 1., 1.],\n",
      "        [1., 0., 1., 1.]])\n"
     ]
    }
   ],
   "source": [
    "# Ceci calcul le produit élément par élément (*element-wise*)\n",
    "print(f\"tensor.mul(tensor) \\n {tensor.mul(tensor)} \\n\")\n",
    "\n",
    "# Syntaxe alternative :\n",
    "print(f\"tensor * tensor \\n {tensor * tensor}\")"
   ]
  },
  {
   "cell_type": "markdown",
   "metadata": {
    "id": "dWHBIXIq4dE2"
   },
   "source": [
    "Ceci calcul la multiplication matricielle entre 2 tenseurs :"
   ]
  },
  {
   "cell_type": "code",
   "execution_count": 15,
   "metadata": {
    "id": "nF8wfvdw4dE2"
   },
   "outputs": [
    {
     "name": "stdout",
     "output_type": "stream",
     "text": [
      "tensor.matmul(tensor.T) \n",
      " tensor([[3., 3., 3., 3.],\n",
      "        [3., 3., 3., 3.],\n",
      "        [3., 3., 3., 3.],\n",
      "        [3., 3., 3., 3.]]) \n",
      "\n",
      "tensor @ tensor.T \n",
      " tensor([[3., 3., 3., 3.],\n",
      "        [3., 3., 3., 3.],\n",
      "        [3., 3., 3., 3.],\n",
      "        [3., 3., 3., 3.]])\n"
     ]
    }
   ],
   "source": [
    "print(f\"tensor.matmul(tensor.T) \\n {tensor.matmul(tensor.T)} \\n\")\n",
    "\n",
    "# Syntaxe alternative :\n",
    "print(f\"tensor @ tensor.T \\n {tensor @ tensor.T}\")"
   ]
  },
  {
   "cell_type": "markdown",
   "metadata": {
    "id": "5XNjhbpEJo6h"
   },
   "source": [
    "**Projection d'un tenseur**\n",
    "\n",
    "PyTorch déduira automatiquement comment gérer certaines opérations lorsque les tailles de tenseurs ne correspondent pas parfaitement. Dans cet exemple, vous pouvez multiplier un scalaire, une matrice de lignes ou une matrice de colonnes par une matrice 2d et obtenir le même résultat. C'est à la fois une fonctionnalité et un problème potentiel, car cela peut cacher des bogues si vous ne faites pas attention !"
   ]
  },
  {
   "cell_type": "code",
   "execution_count": 16,
   "metadata": {
    "id": "pxkQj07gJC05"
   },
   "outputs": [
    {
     "name": "stdout",
     "output_type": "stream",
     "text": [
      "tensor([[2., 2.],\n",
      "        [2., 2.],\n",
      "        [2., 2.],\n",
      "        [2., 2.]])\n",
      "tensor([[2., 2.],\n",
      "        [2., 2.],\n",
      "        [2., 2.],\n",
      "        [2., 2.]])\n",
      "tensor([[2., 2.],\n",
      "        [2., 2.],\n",
      "        [2., 2.],\n",
      "        [2., 2.]])\n"
     ]
    }
   ],
   "source": [
    "tones = torch.ones(4,2)\n",
    "ttwos = 2 * tones\n",
    "tworow = 2 * torch.ones(1,2)\n",
    "twocol = 2 * torch.ones(4,1)\n",
    "ttwos2 = tones * tworow\n",
    "ttwos3 = tones * twocol\n",
    "\n",
    "print(ttwos)\n",
    "print(ttwos2)\n",
    "print(ttwos3)"
   ]
  },
  {
   "cell_type": "markdown",
   "metadata": {
    "id": "pKGF1ZLh8GXE"
   },
   "source": [
    "# Entraîner un réseau de neurones avec PyTorch\n",
    "\n",
    "PyTorch est une bibliothèque d'apprentissage automatique puissante et largement utilisée. Il possède toutes les dernières couches et fonctions de réseau neuronal et prend en charge le calcul GPU.\n",
    "\n",
    "De nos jours, la plupart des recherches sur les réseaux neuronaux s'effectuent avec PyTorch ou TensorFlow. *Google Research* développe TensorFlow tandis que *Facebook AI Research* développe PyTorch. Fonctionnellement, ils sont probablement très similaires, de façon anectodique beaucoup de gens qui utilisent PyTorch et il semble que ce soit un peu plus facile à apprendre pour les débutants. Il est important d'avoir une certaine expérience dans l'un de ces deux frameworks, mais si vous comprenez les idées et les concepts, vous ne devriez pas avoir trop de mal à passer de l'un à l'autre.\n",
    "\n",
    "La bibliothèque `torch` fournit les fonctions de base dont nous avons besoin pour traiter les tenseurs. Les tenseurs sont une généralisation des matrices à des nombres arbitraires de dimensions (une matrice est un tenseur 2D). Types de tenseurs :\n",
    "\n",
    "* 0 dimensionnel : Scalaire\n",
    "* 1 dimensionnel : Vecteur\n",
    "* 2 dimensionnel : Matrice\n",
    "* 3 dimensionnel : Un cube de données, image en couleur\n",
    "* 4 dimensionnel : Vidéo en couleur\n",
    "* 5 dimensionnel : Espace-temps :)\n",
    "* 6 dimensionnel : ???"
   ]
  },
  {
   "cell_type": "code",
   "execution_count": 18,
   "metadata": {
    "id": "ehrybK-XPJrr"
   },
   "outputs": [
    {
     "name": "stdout",
     "output_type": "stream",
     "text": [
      "cpu\n"
     ]
    }
   ],
   "source": [
    "import torch\n",
    "import torchvision\n",
    "import torchvision.transforms as transforms\n",
    "\n",
    "device = torch.device(\"cuda:0\" if torch.cuda.is_available() else \"cpu\")\n",
    "print(device)"
   ]
  },
  {
   "cell_type": "markdown",
   "metadata": {
    "id": "T7rPSRhhBoQc"
   },
   "source": [
    "## Données : MNIST\n",
    "\n",
    "PyTorch a des outils intégrés pour télécharger et charger des ensembles de données communs. Nous allons jouer avec MNIST dans cet exemple. Il s'agit d'un ensemble de données de taille 28x28 de chiffres manuscrits en niveaux de gris de 0 à 9. Il y a 60 000 images dans l'ensemble d'apprentissage et 10 000 dans l'ensemble de test."
   ]
  },
  {
   "cell_type": "code",
   "execution_count": 19,
   "metadata": {
    "id": "iMUkulSBTNwo"
   },
   "outputs": [
    {
     "name": "stdout",
     "output_type": "stream",
     "text": [
      "Downloading http://yann.lecun.com/exdb/mnist/train-images-idx3-ubyte.gz to ./data\\MNIST\\raw\\train-images-idx3-ubyte.gz\n"
     ]
    },
    {
     "data": {
      "application/vnd.jupyter.widget-view+json": {
       "model_id": "6046e2e7408b4946a738aa1faed30dea",
       "version_major": 2,
       "version_minor": 0
      },
      "text/plain": [
       "0it [00:00, ?it/s]"
      ]
     },
     "metadata": {},
     "output_type": "display_data"
    },
    {
     "name": "stdout",
     "output_type": "stream",
     "text": [
      "Extracting ./data\\MNIST\\raw\\train-images-idx3-ubyte.gz to ./data\\MNIST\\raw\n",
      "Downloading http://yann.lecun.com/exdb/mnist/train-labels-idx1-ubyte.gz to ./data\\MNIST\\raw\\train-labels-idx1-ubyte.gz\n"
     ]
    },
    {
     "data": {
      "application/vnd.jupyter.widget-view+json": {
       "model_id": "e354d23e2ee9464f9935236bedea95fb",
       "version_major": 2,
       "version_minor": 0
      },
      "text/plain": [
       "0it [00:00, ?it/s]"
      ]
     },
     "metadata": {},
     "output_type": "display_data"
    },
    {
     "name": "stdout",
     "output_type": "stream",
     "text": [
      "Extracting ./data\\MNIST\\raw\\train-labels-idx1-ubyte.gz to ./data\\MNIST\\raw\n",
      "Downloading http://yann.lecun.com/exdb/mnist/t10k-images-idx3-ubyte.gz to ./data\\MNIST\\raw\\t10k-images-idx3-ubyte.gz\n"
     ]
    },
    {
     "data": {
      "application/vnd.jupyter.widget-view+json": {
       "model_id": "0a78eb812cb4433db58a8e13909469ec",
       "version_major": 2,
       "version_minor": 0
      },
      "text/plain": [
       "0it [00:00, ?it/s]"
      ]
     },
     "metadata": {},
     "output_type": "display_data"
    },
    {
     "name": "stdout",
     "output_type": "stream",
     "text": [
      "Extracting ./data\\MNIST\\raw\\t10k-images-idx3-ubyte.gz to ./data\\MNIST\\raw\n",
      "Downloading http://yann.lecun.com/exdb/mnist/t10k-labels-idx1-ubyte.gz to ./data\\MNIST\\raw\\t10k-labels-idx1-ubyte.gz\n"
     ]
    },
    {
     "data": {
      "application/vnd.jupyter.widget-view+json": {
       "model_id": "c36fbc5faa154518922fac7bfbf0c65b",
       "version_major": 2,
       "version_minor": 0
      },
      "text/plain": [
       "0it [00:00, ?it/s]"
      ]
     },
     "metadata": {},
     "output_type": "display_data"
    },
    {
     "name": "stdout",
     "output_type": "stream",
     "text": [
      "Extracting ./data\\MNIST\\raw\\t10k-labels-idx1-ubyte.gz to ./data\\MNIST\\raw\n",
      "Processing...\n",
      "Done!\n"
     ]
    }
   ],
   "source": [
    "def get_mnist_data():\n",
    "    trainset = torchvision.datasets.MNIST(root='./data', train=True, download=True,\n",
    "                                        transform=transforms.ToTensor())\n",
    "    trainloader = torch.utils.data.DataLoader(trainset, batch_size=32, shuffle=True,\n",
    "                                            num_workers=8)\n",
    "\n",
    "    testset = torchvision.datasets.MNIST(root='./data', train=False, download=True,\n",
    "                                      transform=transforms.ToTensor())\n",
    "    testloader = torch.utils.data.DataLoader(testset, batch_size=32, shuffle=False,\n",
    "                                          num_workers=8)\n",
    "    classes = range(10)\n",
    "    return {'train': trainloader, 'test': testloader, 'classes': classes}\n",
    "\n",
    "data = get_mnist_data()"
   ]
  },
  {
   "cell_type": "code",
   "execution_count": 20,
   "metadata": {
    "id": "IvisX4HgTn8v"
   },
   "outputs": [
    {
     "name": "stdout",
     "output_type": "stream",
     "text": [
      "{'dataset': Dataset MNIST\n",
      "    Number of datapoints: 60000\n",
      "    Root location: ./data\n",
      "    Split: Train\n",
      "    StandardTransform\n",
      "Transform: ToTensor(), 'num_workers': 8, 'pin_memory': False, 'timeout': 0, 'worker_init_fn': None, '_DataLoader__multiprocessing_context': None, '_dataset_kind': 0, 'batch_size': 32, 'drop_last': False, 'sampler': <torch.utils.data.sampler.RandomSampler object at 0x0000018B42F819A0>, 'batch_sampler': <torch.utils.data.sampler.BatchSampler object at 0x0000018B42F98AC0>, 'collate_fn': <function default_collate at 0x0000018B41BCC4C0>, '_DataLoader__initialized': True, '_IterableDataset_len_called': None}\n"
     ]
    }
   ],
   "source": [
    "print(data['train'].__dict__)"
   ]
  },
  {
   "cell_type": "markdown",
   "metadata": {
    "id": "xI_PZ2Pus5cF"
   },
   "source": [
    "### Comprendre nos données\n",
    "Il vaut la peine de vérifier comment notre chargeur de données charge les images dans les tenseurs. Nous pouvons imprimer la taille des données chargées dans les tenseurs `images`."
   ]
  },
  {
   "cell_type": "code",
   "execution_count": 33,
   "metadata": {
    "id": "P1HO7vN-T5P4"
   },
   "outputs": [
    {
     "name": "stdout",
     "output_type": "stream",
     "text": [
      "torch.Size([32, 1, 28, 28])\n"
     ]
    }
   ],
   "source": [
    "# Obtenir des images d'entraînement aléatoire\n",
    "dataiter = iter(data['train'])\n",
    "images, labels = next(dataiter)\n",
    "print(images.size())"
   ]
  },
  {
   "cell_type": "markdown",
   "metadata": {
    "id": "C2h61JjW7rh1"
   },
   "source": [
    "Le tenseur `images` est 4-dimensionnel (32 x 1 x 28 x 28)\n",
    "\n",
    "PyTorch stocke les données d'image au format (N x C x H x W). Ainsi, la taille de ce tenseur implique que nous avons un mini-lot de 32 images, chacune ayant un seul canal (niveaux de gris), et chaque image est de 28 x 28, donc c'est logique !\n",
    "\n",
    "Nous pouvons utiliser matplotlib pour voir à quoi ressemblent nos données :"
   ]
  },
  {
   "cell_type": "code",
   "execution_count": 22,
   "metadata": {
    "id": "E42h6plq63Ar"
   },
   "outputs": [
    {
     "data": {
      "image/png": "[encoded data removed]",
      "text/plain": [
       "<Figure size 432x288 with 1 Axes>"
      ]
     },
     "metadata": {
      "needs_background": "light"
     },
     "output_type": "display_data"
    },
    {
     "name": "stdout",
     "output_type": "stream",
     "text": [
      "Étiquettes :        0         2         1         2         5         1         3         0\n",
      "torch.Size([32, 1, 28, 28])\n",
      "torch.Size([32, 784])\n"
     ]
    }
   ],
   "source": [
    "import matplotlib.pyplot as plt\n",
    "import numpy as np\n",
    "\n",
    "def imshow(img):\n",
    "    npimg = img.numpy()\n",
    "    plt.imshow(np.transpose(npimg, (1, 2, 0)))\n",
    "    plt.show()\n",
    "\n",
    "# Afficher les images\n",
    "imshow(torchvision.utils.make_grid(images))\n",
    "\n",
    "# Imprimer les étiquettes (labels)\n",
    "print(\"Étiquettes :\" + ' '.join('%9s' % data['classes'][labels[j]] for j in range(8)))\n",
    "\n",
    "\n",
    "flat = torch.flatten(images, 1)\n",
    "print(images.size())\n",
    "print(flat.size())\n"
   ]
  },
  {
   "cell_type": "markdown",
   "metadata": {
    "id": "0z2Zs4W74Rcv"
   },
   "source": [
    "## Un réseau simple\n",
    "\n",
    "Nous allons d'abord construire un réseau de neurones très basique avec une seule couche cachée de neurones (*hidden layer*). Cela signifie qu'une couche de poids entièrement connectée (*fully connected layer*) connecte l'entrée aux neurones cachés et qu'une couche entièrement connectée connecte les neurones cachés à la sortie. Nous utiliserons la fonction d'activation RELU sur les valeurs de neurones cachés comme notre non-linéarité.\n",
    "\n",
    "Ces couches entièrement connectées (ou `nn.Linear`) attendent un tenseur d'entrée 2D de taille N x I où N est le nombre de points de données dans un mini lot et I est le nombre d'entrées. Cependant, nos données sont formatées en (N x C x H x W) pour le moment, nous devons donc dire à PyTorch de les réorganiser en utilisant `torch.flatten`.\n",
    "\n",
    "Après l'application de `flatten`, les données passent d'une forme (32 x 1 x 28 x 28) à (32 x 784)"
   ]
  },
  {
   "cell_type": "code",
   "execution_count": 23,
   "metadata": {
    "id": "RfglkbNyVLQY"
   },
   "outputs": [],
   "source": [
    "import torch.nn as nn\n",
    "import torch.nn.functional as F\n",
    "\n",
    "\n",
    "class SimpleNet(nn.Module):\n",
    "    def __init__(self, inputs=28*28, hidden=512, outputs=10):\n",
    "        super(SimpleNet, self).__init__()\n",
    "        self.fc1 = nn.Linear(inputs, hidden)\n",
    "        self.fc2 = nn.Linear(hidden, outputs)\n",
    "\n",
    "    def forward(self, x):\n",
    "        x = torch.flatten(x, 1)\n",
    "        x = self.fc1(x)\n",
    "        x = F.relu(x)  # fonction d'activation : précision 92.4% -> 98.6%\n",
    "        x = self.fc2(x)\n",
    "        return x\n"
   ]
  },
  {
   "cell_type": "markdown",
   "metadata": {
    "id": "cBv5uxRHrdH_"
   },
   "source": [
    "### La fonction d'entraînement\n",
    "\n",
    "Passons maintenant à l'entraînement du réseau. Notre fonction `train` prend en entrée le `net` à entraîner et le `dataloader` pour les données d'apprentissage. Il faut également fournir certains paramètres optionnels pour contrôler l'apprentissage.\n",
    "\n",
    "Pour notre réseau, nous utiliserons le `nn.CrossEntropyLoss` intégré à PyTorch. Cela appliquera un softmax à la sortie de notre réseau, calculera la probabilité logarithmique attribuée à chaque classe, puis essaiera de minimiser la vraisemblance logarithmique négative de nos données (AKA maximiser la vraisemblance)\n",
    "\n",
    "Pour notre optimiseur, nous utilisons une descente de gradient stochastique avec des paramètres de taux d'apprentissage (*learning rate*), une intertie (*momuntum*) et de décroissance (*decay*)."
   ]
  },
  {
   "cell_type": "code",
   "execution_count": 24,
   "metadata": {
    "id": "XrzP3OzSWLnV"
   },
   "outputs": [],
   "source": [
    "import torch.optim as optim\n",
    "\n",
    "def train(net, dataloader, epochs=1, lr=0.01, momentum=0.9, decay=0.0, verbose=1):\n",
    "    net.to(device)\n",
    "    losses = []\n",
    "    criterion = nn.CrossEntropyLoss()\n",
    "    optimizer = optim.SGD(net.parameters(), lr=lr, momentum=momentum, weight_decay=decay)\n",
    "    for epoch in range(epochs):\n",
    "        sum_loss = 0.0\n",
    "        for i, batch in enumerate(dataloader, 0):\n",
    "            # Obtenir les entrées; les données forme une liste de [inputs, labels]\n",
    "            inputs, labels = batch[0].to(device), batch[1].to(device)\n",
    "\n",
    "            # Initialiser les paramètres des gradients à zéro\n",
    "            optimizer.zero_grad()\n",
    "\n",
    "            # Propagation avant (forward) + Rétropropagation (backward) + Optimisation \n",
    "            outputs = net(inputs)\n",
    "            loss = criterion(outputs, labels)\n",
    "            loss.backward()  # autograd magic ! Calcule toutes les dérivées partielles\n",
    "            optimizer.step() # Effectue un pas dans la direction du gradient\n",
    "\n",
    "            # Affiche des statistiques\n",
    "            losses.append(loss.item())\n",
    "            sum_loss += loss.item()\n",
    "            if i % 100 == 99:    # Affiche chaque 100 mini-batches\n",
    "                if verbose:\n",
    "                    print('[%d, %5d] loss: %.3f' %\n",
    "                         (epoch + 1, i + 1, sum_loss / 100))\n",
    "                sum_loss = 0.0\n",
    "    return losses"
   ]
  },
  {
   "cell_type": "markdown",
   "metadata": {
    "id": "7PQs_ofgwmCt"
   },
   "source": [
    "### Entraîner le réseau\n",
    "\n",
    "Nous allons instancier un nouveau réseau et l'entraîner sur nos données d'entraînement.\n",
    "\n",
    "Notre fonction d'entraînement imprime des informations de débogage sur l'époque, le numéro de lot et les valeurs de perte actuelles. Il renvoie également une liste de toutes les pertes sur nos mini-lots afin que nous puissions les tracer une fois la formation terminée."
   ]
  },
  {
   "cell_type": "code",
   "execution_count": 25,
   "metadata": {
    "id": "ZnniOt6IsJjo"
   },
   "outputs": [
    {
     "name": "stdout",
     "output_type": "stream",
     "text": [
      "[1,   100] loss: 1.383\n",
      "[1,   200] loss: 0.523\n",
      "[1,   300] loss: 0.404\n",
      "[1,   400] loss: 0.365\n",
      "[1,   500] loss: 0.314\n",
      "[1,   600] loss: 0.322\n",
      "[1,   700] loss: 0.281\n",
      "[1,   800] loss: 0.275\n",
      "[1,   900] loss: 0.273\n",
      "[1,  1000] loss: 0.256\n",
      "[1,  1100] loss: 0.244\n",
      "[1,  1200] loss: 0.238\n",
      "[1,  1300] loss: 0.258\n",
      "[1,  1400] loss: 0.231\n",
      "[1,  1500] loss: 0.238\n",
      "[1,  1600] loss: 0.204\n",
      "[1,  1700] loss: 0.211\n",
      "[1,  1800] loss: 0.210\n"
     ]
    },
    {
     "data": {
      "text/plain": [
       "[<matplotlib.lines.Line2D at 0x18b4712d7f0>]"
      ]
     },
     "execution_count": 25,
     "metadata": {},
     "output_type": "execute_result"
    },
    {
     "data": {
      "image/png": "[encoded data removed]",
      "text/plain": [
       "<Figure size 432x288 with 1 Axes>"
      ]
     },
     "metadata": {
      "needs_background": "light"
     },
     "output_type": "display_data"
    }
   ],
   "source": [
    "net = SimpleNet()\n",
    "\n",
    "losses = train(net, data['train'])\n",
    "plt.plot(losses)"
   ]
  },
  {
   "cell_type": "markdown",
   "metadata": {
    "id": "AbQR1GAlzqQt"
   },
   "source": [
    "## Tester le réseau\n",
    "\n",
    "Nous avons entraîné notre premier réseau de neurones ! La perte a diminué ! C'est bien, non ? Mais quelle est la qualité de notre réseau, exactement ?\n",
    "\n",
    "Eh bien, nous pouvons essayer d'exécuter notre réseau sur quelques-unes de nos images de test et voir ce qui se passe :"
   ]
  },
  {
   "cell_type": "code",
   "execution_count": 27,
   "metadata": {
    "id": "jRnA3phakd4j"
   },
   "outputs": [
    {
     "data": {
      "image/png": "[encoded data removed]",
      "text/plain": [
       "<Figure size 432x288 with 1 Axes>"
      ]
     },
     "metadata": {
      "needs_background": "light"
     },
     "output_type": "display_data"
    },
    {
     "name": "stdout",
     "output_type": "stream",
     "text": [
      "Vérité de terrain (GroundTruth):      7     2     1     0\n",
      "Prédiction :      7     2     1     0\n"
     ]
    }
   ],
   "source": [
    "dataiter = iter(data['test'])\n",
    "images, labels = next(dataiter)\n",
    "\n",
    "images = images[:4]\n",
    "labels = labels[:4]\n",
    "\n",
    "# Afficher les images\n",
    "imshow(torchvision.utils.make_grid(images))\n",
    "print('Vérité de terrain (GroundTruth): ', ' '.join('%5s' % data['classes'][labels[j]] for j in range(4)))\n",
    "outputs = net(images.to(device))\n",
    "_, predicted = torch.max(outputs, 1)\n",
    "\n",
    "print('Prédiction : ', ' '.join('%5s' % data['classes'][predicted[j]]\n",
    "                              for j in range(4)))"
   ]
  },
  {
   "cell_type": "markdown",
   "metadata": {
    "id": "UvR8TTs-z8Cc"
   },
   "source": [
    "Assez bon jusqu'à présent. Mais nous voulons aussi pouvoir tester le réseau sur l'ensemble de nos données. Voici une fonction qui peut faire exactement cela, en calculant la précision (*accuracy*) sur un ensemble complet de données :"
   ]
  },
  {
   "cell_type": "code",
   "execution_count": 28,
   "metadata": {
    "id": "7TNFVUA3mpJr"
   },
   "outputs": [],
   "source": [
    "def accuracy(net, dataloader):\n",
    "    correct = 0\n",
    "    total = 0\n",
    "    with torch.no_grad():\n",
    "        for batch in dataloader:\n",
    "            images, labels = batch[0].to(device), batch[1].to(device)\n",
    "            outputs = net(images)\n",
    "            _, predicted = torch.max(outputs.data, 1)\n",
    "            total += labels.size(0)\n",
    "            correct += (predicted == labels).sum().item()\n",
    "    return correct/total"
   ]
  },
  {
   "cell_type": "markdown",
   "metadata": {
    "id": "_usQ2gGR01j0"
   },
   "source": [
    "Maintenant, nous pouvons essayer :"
   ]
  },
  {
   "cell_type": "code",
   "execution_count": 30,
   "metadata": {
    "id": "MEl-HH83020a"
   },
   "outputs": [
    {
     "name": "stdout",
     "output_type": "stream",
     "text": [
      "Précision actuelle : 94.9217 %\n"
     ]
    }
   ],
   "source": [
    "print(f\"Précision actuelle : {accuracy(net, data['train']) * 100:.04f} %\")"
   ]
  },
  {
   "cell_type": "markdown",
   "metadata": {
    "id": "3gIXV-es1T7C"
   },
   "source": [
    "## Expérimentations\n",
    "\n",
    "Il est maintenant temps d'expérimenter un peu avec nos modèles. Tout d'abord, voici une fonction utilitaire qui fait le lissage des données pour nous. Comme vous l'avez peut-être remarqué, nous effectuons une descente de gradient *stochastique*, de sorte que nos pertes pour chaque mini-lot peuvent varier considérablement. Si nous les lissons un peu, ils seront plus faciles à regarder lorsque nous les traçons."
   ]
  },
  {
   "cell_type": "code",
   "execution_count": 31,
   "metadata": {
    "id": "Zq0AprMN30cS"
   },
   "outputs": [],
   "source": [
    "def smooth(x, size):\n",
    "    return np.convolve(x, np.ones(size)/size, mode='same')"
   ]
  },
  {
   "cell_type": "markdown",
   "metadata": {
    "id": "TdHueTHS7ClZ"
   },
   "source": [
    "### Taux d'apprentissage (*Learning Rate*)\n",
    "\n",
    "Expérimentons avec le taux d'apprentissage de notre modèle. La modification du taux d'apprentissage devrait affecter la vitesse de convergence de notre modèle et sa précision. Nous pouvons voir l'effet lorsque nous traçons la fonction de perte au fil du temps pour des modèles avec différents taux d'apprentissage :"
   ]
  },
  {
   "cell_type": "code",
   "execution_count": 32,
   "metadata": {
    "id": "lC3gB5j61j2Z"
   },
   "outputs": [
    {
     "name": "stdout",
     "output_type": "stream",
     "text": [
      "[1,   100] loss: 0.756\n",
      "[1,   200] loss: 0.363\n",
      "[1,   300] loss: 0.299\n",
      "[1,   400] loss: 0.272\n",
      "[1,   500] loss: 0.240\n",
      "[1,   600] loss: 0.230\n",
      "[1,   700] loss: 0.231\n",
      "[1,   800] loss: 0.194\n",
      "[1,   900] loss: 0.200\n",
      "[1,  1000] loss: 0.209\n",
      "[1,  1100] loss: 0.200\n",
      "[1,  1200] loss: 0.175\n",
      "[1,  1300] loss: 0.190\n",
      "[1,  1400] loss: 0.197\n",
      "[1,  1500] loss: 0.161\n",
      "[1,  1600] loss: 0.171\n",
      "[1,  1700] loss: 0.164\n",
      "[1,  1800] loss: 0.145\n",
      "[1,   100] loss: 1.376\n",
      "[1,   200] loss: 0.521\n",
      "[1,   300] loss: 0.425\n",
      "[1,   400] loss: 0.396\n",
      "[1,   500] loss: 0.341\n",
      "[1,   600] loss: 0.310\n",
      "[1,   700] loss: 0.294\n",
      "[1,   800] loss: 0.290\n",
      "[1,   900] loss: 0.277\n",
      "[1,  1000] loss: 0.265\n",
      "[1,  1100] loss: 0.246\n",
      "[1,  1200] loss: 0.257\n",
      "[1,  1300] loss: 0.236\n",
      "[1,  1400] loss: 0.231\n",
      "[1,  1500] loss: 0.227\n",
      "[1,  1600] loss: 0.195\n",
      "[1,  1700] loss: 0.203\n",
      "[1,  1800] loss: 0.202\n",
      "[1,   100] loss: 2.217\n",
      "[1,   200] loss: 1.965\n",
      "[1,   300] loss: 1.650\n",
      "[1,   400] loss: 1.314\n",
      "[1,   500] loss: 1.062\n",
      "[1,   600] loss: 0.890\n",
      "[1,   700] loss: 0.765\n",
      "[1,   800] loss: 0.690\n",
      "[1,   900] loss: 0.646\n",
      "[1,  1000] loss: 0.591\n",
      "[1,  1100] loss: 0.551\n",
      "[1,  1200] loss: 0.529\n",
      "[1,  1300] loss: 0.500\n",
      "[1,  1400] loss: 0.480\n",
      "[1,  1500] loss: 0.474\n",
      "[1,  1600] loss: 0.473\n",
      "[1,  1700] loss: 0.453\n",
      "[1,  1800] loss: 0.454\n",
      "0.9519 0.9496 0.8906\n"
     ]
    },
    {
     "data": {
      "image/png": "[encoded data removed]",
      "text/plain": [
       "<Figure size 432x288 with 1 Axes>"
      ]
     },
     "metadata": {
      "needs_background": "light"
     },
     "output_type": "display_data"
    }
   ],
   "source": [
    "net_high = SimpleNet()\n",
    "losses_high = train(net_high, data['train'], lr=.1, verbose=1)\n",
    "acc_high = accuracy(net_high, data['test'])\n",
    "plt.plot(smooth(losses_high,20), 'r-')\n",
    "\n",
    "\n",
    "net_mid = SimpleNet()\n",
    "losses_mid = train(net_mid, data['train'], lr=.01, verbose=1)\n",
    "acc_mid = accuracy(net_mid, data['test'])\n",
    "plt.plot(smooth(losses_mid,20), 'b-')\n",
    "\n",
    "\n",
    "net_low = SimpleNet()\n",
    "losses_low = train(net_low, data['train'], lr=.001, verbose=1)\n",
    "acc_low = accuracy(net_low, data['test'])\n",
    "plt.plot(smooth(losses_low,20), 'g-')\n",
    "\n",
    "print(acc_high, acc_mid, acc_low)"
   ]
  },
  {
   "cell_type": "markdown",
   "metadata": {
    "id": "-aM_X31X7gxf"
   },
   "source": [
    "### Inertie (*Momentum*)\n",
    "\n",
    "Nous utilisons la valeur par défaut pour l'inertie de `0.9`. Fixez votre valeur pour le taux d'apprentissage et essayez de varier les valeurs pour le `momentum`."
   ]
  },
  {
   "cell_type": "code",
   "execution_count": null,
   "metadata": {
    "id": "X5rsSpoP78KM"
   },
   "outputs": [],
   "source": [
    "# Écrivez votre code ici pour expérimenter différentes valeurs de momentum."
   ]
  },
  {
   "cell_type": "markdown",
   "metadata": {
    "id": "weTQgPBE8GC-"
   },
   "source": [
    "### Décroissance des poids (*Weight Decay*)\n",
    "\n",
    "Pour l'instant, nous n'utilisons aucune décroissance des poids avec notre modèle. Cependant, cela peut être utile comme méthode de régularisation si nous craignons un sur-ajustement."
   ]
  },
  {
   "cell_type": "code",
   "execution_count": null,
   "metadata": {
    "id": "Jywu7uy0aLa8"
   },
   "outputs": [],
   "source": [
    "# Écrivez votre code ici pour expérimenter différentes valeurs de weight decay. "
   ]
  },
  {
   "cell_type": "markdown",
   "metadata": {
    "id": "mKmBp4tMaYro"
   },
   "source": [
    "### Un modèle plus grand\n",
    "\n",
    "Avant, nous utilisions un modèle très simple, mais il est maintenant temps d'essayer d'ajouter un peu de complexité. Créez un réseau qui prend en entrée l'image 28x28, 10 sorties et n'importe quel nombre de couches tant qu'il a moins de 2 000 000 connexions. Notre réseau simple avait auparavant 784\\*512 + 512\\*10 = 406 528 connexions.\n",
    "\n",
    "N'utilisez que des couches entièrement connectées (`nn.Linear`) (nous verrons bientôt d'autres types de couches). Cependant, jouez avec différentes [fonctions d'activation](https://pytorch.org/docs/stable/nn.functional.html#non-linear-activation-functions), [pertes](https://pytorch.org/ docs/stable/nn.html#loss-functions) et les valeurs des hyperparamètres. Vous pouvez également essayer différents régimes d'entraînement. Par exemple, vous pouvez essayer de réduire le taux d'apprentissage pendant l'entraînement en appelant notre méthode d'entraînement deux fois comme ceci :\n",
    "\n",
    "```python\n",
    "train(net, data['train'], epochs=5, lr=.1)\n",
    "train(net, data['train'], epochs=3, lr=.01)\n",
    "train(net, data['train'], epochs=2, lr=.001)\n",
    "```\n",
    "\n",
    "Peut-être que ça fonctionne mieux ? Pourquoi ai-je choisi ces valeurs en particulier ? Qui sait! Faire de l'apprentissage profond est entre art et expérience, il suffit d'essayer des choses et de voir ce qui fonctionne.\n",
    "\n",
    "Expérimentez avec différentes architectures et paramètres de réseau pour obtenir le modèle le plus précis."
   ]
  },
  {
   "cell_type": "code",
   "execution_count": null,
   "metadata": {
    "id": "J0yynxFmd0ss"
   },
   "outputs": [],
   "source": [
    "# Écrivez votre nouveau modèle et faites vos expérimentations ici.\n",
    "\n",
    "class ExperiNet(nn.Module):\n",
    "    def __init__(self):\n",
    "        super(ExperiNet, self).__init__()\n",
    "        self.fc1 = nn.Linear(28*28, 512)\n",
    "        self.fc2 = nn.Linear(512, 10)\n",
    "\n",
    "    def forward(self, x):\n",
    "        x = torch.flatten(x, 1)\n",
    "        x = self.fc1(x)\n",
    "        x = F.relu(x)\n",
    "        x = self.fc2(x)\n",
    "        return x"
   ]
  }
 ],
 "metadata": {
  "accelerator": "GPU",
  "colab": {
   "include_colab_link": true,
   "name": "Tutorial 1 - PyTorch Introduction.ipynb",
   "provenance": []
  },
  "kernelspec": {
   "display_name": "Python 3",
   "language": "python",
   "name": "python3"
  },
  "language_info": {
   "codemirror_mode": {
    "name": "ipython",
    "version": 3
   },
   "file_extension": ".py",
   "mimetype": "text/x-python",
   "name": "python",
   "nbconvert_exporter": "python",
   "pygments_lexer": "ipython3",
   "version": "3.8.8"
  },
  "toc": {
   "base_numbering": 1,
   "nav_menu": {},
   "number_sections": false,
   "sideBar": true,
   "skip_h1_title": false,
   "title_cell": "Table of Contents",
   "title_sidebar": "Contents",
   "toc_cell": false,
   "toc_position": {},
   "toc_section_display": true,
   "toc_window_display": false
  }
 },
 "nbformat": 4,
 "nbformat_minor": 1
}
